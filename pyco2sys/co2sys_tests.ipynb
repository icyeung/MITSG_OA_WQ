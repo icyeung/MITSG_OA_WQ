{
 "cells": [
  {
   "cell_type": "code",
   "execution_count": 1,
   "id": "6bb4a08b",
   "metadata": {},
   "outputs": [],
   "source": [
    "import numpy as np\n",
    "import pandas as pd\n",
    "import matplotlib.pyplot as plt\n",
    "import PyCO2SYS"
   ]
  },
  {
   "cell_type": "code",
   "execution_count": 2,
   "id": "79ef93ac",
   "metadata": {},
   "outputs": [
    {
     "name": "stdout",
     "output_type": "stream",
     "text": [
      "Collecting PyCO2SYS\n",
      "  Downloading PyCO2SYS-1.8.3.1-py3-none-any.whl.metadata (5.9 kB)\n",
      "Collecting autograd (from PyCO2SYS)\n",
      "  Downloading autograd-1.6.2-py3-none-any.whl.metadata (706 bytes)\n",
      "Requirement already satisfied: numpy in c:\\users\\bastidas\\appdata\\local\\packages\\pythonsoftwarefoundation.python.3.11_qbz5n2kfra8p0\\localcache\\local-packages\\python311\\site-packages (from PyCO2SYS) (1.25.2)\n",
      "Collecting future>=0.15.2 (from autograd->PyCO2SYS)\n",
      "  Downloading future-1.0.0-py3-none-any.whl.metadata (4.0 kB)\n",
      "Downloading PyCO2SYS-1.8.3.1-py3-none-any.whl (110 kB)\n",
      "   ---------------------------------------- 0.0/110.5 kB ? eta -:--:--\n",
      "   ------- ------------------------------- 20.5/110.5 kB 682.7 kB/s eta 0:00:01\n",
      "   ------------------------- ------------- 71.7/110.5 kB 787.7 kB/s eta 0:00:01\n",
      "   -------------------------------------- 110.5/110.5 kB 919.5 kB/s eta 0:00:00\n",
      "Downloading autograd-1.6.2-py3-none-any.whl (49 kB)\n",
      "   ---------------------------------------- 0.0/49.3 kB ? eta -:--:--\n",
      "   ---------------------------------------- 49.3/49.3 kB 1.3 MB/s eta 0:00:00\n",
      "Downloading future-1.0.0-py3-none-any.whl (491 kB)\n",
      "   ---------------------------------------- 0.0/491.3 kB ? eta -:--:--\n",
      "   ------------------------- -------------- 307.2/491.3 kB 6.3 MB/s eta 0:00:01\n",
      "   ---------------------------------------- 491.3/491.3 kB 6.2 MB/s eta 0:00:00\n",
      "Installing collected packages: future, autograd, PyCO2SYS\n",
      "Successfully installed PyCO2SYS-1.8.3.1 autograd-1.6.2 future-1.0.0\n",
      "Note: you may need to restart the kernel to use updated packages.\n"
     ]
    }
   ],
   "source": [
    "#pip install PyCO2SYS"
   ]
  },
  {
   "cell_type": "code",
   "execution_count": 2,
   "id": "bc80f489",
   "metadata": {},
   "outputs": [
    {
     "name": "stdout",
     "output_type": "stream",
     "text": [
      "1.8.3.1\n"
     ]
    }
   ],
   "source": [
    "print(PyCO2SYS.__version__)"
   ]
  },
  {
   "cell_type": "code",
   "execution_count": 4,
   "id": "46fbf389",
   "metadata": {},
   "outputs": [
    {
     "data": {
      "text/plain": [
       "Index(['STUDY_ID', 'EVENT_ID', 'STAT_ID', 'ORDERED_DEPTH_CODE', 'SAMPLE_ID',\n",
       "       'SAMPLE_DEPTH_TOP', 'SAMPLE_DEPTH_BOTTOM', 'LATITUDE', 'LONGITUDE',\n",
       "       'PROF_DATE_TIME_LOCAL', 'SAMPLE_DEPTH_CODE', 'DEPTH (m)',\n",
       "       'CONDTVY (mS/cm)', 'DISS_OXYGEN (mg/L)', 'FLUORESCENCE (ug/L)',\n",
       "       'FLU_RAW (ug/L)', 'PCT_SAT (PCT)', 'pH ()', 'VAL_QUAL', 'SAL (PSU)',\n",
       "       'SIGMA_T ()', 'TEMP (C)', 'TRANS (m-1)', 'Station_D', 'Air Irradiance',\n",
       "       'Water Irradiance', 'TA in (mmol/kgSW)', 'TCO2 in (mmol/kgSW)',\n",
       "       't(oC) out', 'P (dbars) out', 'pH out', 'fCO2 out (matm)',\n",
       "       'pCO2 out (matm)', 'HCO3 out (mmol/kgSW)', 'CO3 out (mmol/kgSW)',\n",
       "       'CO2 out (mmol/kgSW)', 'B Alk out (mmol/kgSW)', 'OH out (mmol/kgSW)',\n",
       "       'P Alk out (mmol/kgSW)', 'Si Alk out (mmol/kgSW) ', 'Revelle out',\n",
       "       'WCa out', 'WAr out', 'xCO2 out (dry at 1 atm) (ppm)',\n",
       "       'Field Replicate', 'VINDTA Sample Name', 'Sampled Bottle Name',\n",
       "       'Sampling Date', 'Sampling Depth', 'Salinity - Carolina',\n",
       "       'Salinity - Ries ', 'Run T', 'Sampling T', 'Pressure', 'Comments',\n",
       "       'Data Source'],\n",
       "      dtype='object')"
      ]
     },
     "execution_count": 4,
     "metadata": {},
     "output_type": "execute_result"
    }
   ],
   "source": [
    "df = pd.read_csv('MWRA.csv')\n",
    "df.columns"
   ]
  },
  {
   "cell_type": "code",
   "execution_count": 6,
   "id": "f4846a00",
   "metadata": {},
   "outputs": [
    {
     "data": {
      "text/html": [
       "<div>\n",
       "<style scoped>\n",
       "    .dataframe tbody tr th:only-of-type {\n",
       "        vertical-align: middle;\n",
       "    }\n",
       "\n",
       "    .dataframe tbody tr th {\n",
       "        vertical-align: top;\n",
       "    }\n",
       "\n",
       "    .dataframe thead th {\n",
       "        text-align: right;\n",
       "    }\n",
       "</style>\n",
       "<table border=\"1\" class=\"dataframe\">\n",
       "  <thead>\n",
       "    <tr style=\"text-align: right;\">\n",
       "      <th></th>\n",
       "      <th>Station</th>\n",
       "      <th>Depth</th>\n",
       "      <th>Temperature</th>\n",
       "      <th>Salinity</th>\n",
       "      <th>TA</th>\n",
       "      <th>pH</th>\n",
       "      <th>Ar</th>\n",
       "      <th>DIC</th>\n",
       "    </tr>\n",
       "  </thead>\n",
       "  <tbody>\n",
       "    <tr>\n",
       "      <th>0</th>\n",
       "      <td>F13</td>\n",
       "      <td>1.61</td>\n",
       "      <td>3.386</td>\n",
       "      <td>32.52</td>\n",
       "      <td>NaN</td>\n",
       "      <td>8.040</td>\n",
       "      <td>NaN</td>\n",
       "      <td>NaN</td>\n",
       "    </tr>\n",
       "    <tr>\n",
       "      <th>1</th>\n",
       "      <td>F13</td>\n",
       "      <td>5.63</td>\n",
       "      <td>3.425</td>\n",
       "      <td>32.52</td>\n",
       "      <td>NaN</td>\n",
       "      <td>8.027</td>\n",
       "      <td>NaN</td>\n",
       "      <td>NaN</td>\n",
       "    </tr>\n",
       "    <tr>\n",
       "      <th>2</th>\n",
       "      <td>F13</td>\n",
       "      <td>11.00</td>\n",
       "      <td>3.592</td>\n",
       "      <td>32.55</td>\n",
       "      <td>NaN</td>\n",
       "      <td>8.001</td>\n",
       "      <td>NaN</td>\n",
       "      <td>NaN</td>\n",
       "    </tr>\n",
       "    <tr>\n",
       "      <th>3</th>\n",
       "      <td>F13</td>\n",
       "      <td>16.75</td>\n",
       "      <td>3.690</td>\n",
       "      <td>32.57</td>\n",
       "      <td>NaN</td>\n",
       "      <td>7.973</td>\n",
       "      <td>NaN</td>\n",
       "      <td>NaN</td>\n",
       "    </tr>\n",
       "    <tr>\n",
       "      <th>4</th>\n",
       "      <td>F13</td>\n",
       "      <td>22.79</td>\n",
       "      <td>3.794</td>\n",
       "      <td>32.59</td>\n",
       "      <td>NaN</td>\n",
       "      <td>7.922</td>\n",
       "      <td>NaN</td>\n",
       "      <td>NaN</td>\n",
       "    </tr>\n",
       "  </tbody>\n",
       "</table>\n",
       "</div>"
      ],
      "text/plain": [
       "  Station  Depth  Temperature  Salinity  TA     pH  Ar  DIC\n",
       "0     F13   1.61        3.386     32.52 NaN  8.040 NaN  NaN\n",
       "1     F13   5.63        3.425     32.52 NaN  8.027 NaN  NaN\n",
       "2     F13  11.00        3.592     32.55 NaN  8.001 NaN  NaN\n",
       "3     F13  16.75        3.690     32.57 NaN  7.973 NaN  NaN\n",
       "4     F13  22.79        3.794     32.59 NaN  7.922 NaN  NaN"
      ]
     },
     "execution_count": 6,
     "metadata": {},
     "output_type": "execute_result"
    }
   ],
   "source": [
    "df = pd.read_csv('MWRA.csv')\n",
    "df = df[df['VAL_QUAL'] != -1] #excluding suspicious pH values\n",
    "\n",
    "ph_var = 'pH ()' # ph out\n",
    "df = df[['STAT_ID','DEPTH (m)', 'TEMP (C)', 'SAL (PSU)', 'TA in (mmol/kgSW)', ph_var, 'WAr out','TCO2 in (mmol/kgSW)']]\n",
    "df.columns = ['Station', 'Depth','Temperature','Salinity', 'TA', 'pH', 'Ar', 'DIC']\n",
    "\n",
    "df = df[df['Station'] != 'HAR']\n",
    "df = df[df['Station'] != 'NFAL']\n",
    "df = df[df['Station'] != 'POC']\n",
    "\n",
    "\n",
    "df.head()"
   ]
  },
  {
   "cell_type": "code",
   "execution_count": 7,
   "id": "95a6c853",
   "metadata": {},
   "outputs": [
    {
     "name": "stdout",
     "output_type": "stream",
     "text": [
      "481\n",
      "3405\n",
      "481\n",
      "481\n"
     ]
    }
   ],
   "source": [
    "print(len(df[~df['DIC'].isna()]))\n",
    "print(len(df[~df['pH'].isna()]))\n",
    "print(len(df[~df['TA'].isna()]))\n",
    "print(len(df[~df['Ar'].isna()]))"
   ]
  },
  {
   "cell_type": "code",
   "execution_count": 8,
   "id": "0a97690c",
   "metadata": {},
   "outputs": [
    {
     "data": {
      "text/plain": [
       "0.007402832185710612"
      ]
     },
     "execution_count": 8,
     "metadata": {},
     "output_type": "execute_result"
    },
    {
     "data": {
      "image/png": "[encoded data removed]",
      "text/plain": [
       "<Figure size 640x480 with 1 Axes>"
      ]
     },
     "metadata": {},
     "output_type": "display_data"
    }
   ],
   "source": [
    "# TO DO: need to translate pH to be lab temperature!\n",
    "\n",
    "test = df.copy()\n",
    "test = test[~test['Ar'].isna()]\n",
    "test = test[~test['DIC'].isna()]\n",
    "test = test[~test['TA'].isna()]\n",
    "\n",
    "co2sys = PyCO2SYS.sys(\n",
    "    par1_type=1,  # Total Alkalinity input 1\n",
    "    par1=test['TA'],\n",
    "    par2_type=2,  # DIC input 2\n",
    "    par2=test['DIC'],\n",
    "    salinity=test['Salinity'],  # practical salinity (default 35)\n",
    "\n",
    "    temperature = 25,  # temperature at which par1 and par2 arguments are provided in °C (default 25 °C)\n",
    "    pressure = 0,   # water pressure at which par1 and par2 arguments are provided in dbar (default 0 dbar)\n",
    "    temperature_out = test['Temperature'], # temperature at which results will be calculated in °C \n",
    "    pressure_out = test['Depth'], # water pressure at which results will be calculated in dbar\n",
    "    \n",
    "    opt_pH_scale = 4, # NBS 4\n",
    "    opt_k_carbonic = 1, # Roy et al 1993 1\n",
    "    opt_k_bisulfate = 1, # Dickson et al 1990 1\n",
    "    opt_total_borate = 2, # Lee et al 2010 2\n",
    "    opt_k_fluoride = 1 # Dickson and Riley 1979 1\n",
    ")\n",
    "\n",
    "Ar_pred_DIC = co2sys[\"saturation_aragonite_out\"]\n",
    "\n",
    "plt.plot(test['Ar'], Ar_pred_DIC, '.')\n",
    "plt.plot(np.arange(0,6))\n",
    "plt.xlabel('Ar')\n",
    "plt.ylabel('co2sys Ar')\n",
    "\n",
    "np.sqrt(np.mean(np.square(test['Ar']-Ar_pred_DIC)))\n"
   ]
  },
  {
   "cell_type": "code",
   "execution_count": 11,
   "id": "3fed4bda",
   "metadata": {},
   "outputs": [
    {
     "data": {
      "text/plain": [
       "0.46861948532378767"
      ]
     },
     "execution_count": 11,
     "metadata": {},
     "output_type": "execute_result"
    },
    {
     "data": {
      "image/png": "[encoded data removed]",
      "text/plain": [
       "<Figure size 640x480 with 1 Axes>"
      ]
     },
     "metadata": {},
     "output_type": "display_data"
    }
   ],
   "source": [
    "# TO DO: need to translate pH to be lab temperature!\n",
    "\n",
    "test = df.copy()\n",
    "test = test[~test['pH'].isna()]\n",
    "test = test[~test['TA'].isna()]\n",
    "test = test[~test['Ar'].isna()]\n",
    "\n",
    "co2sys = PyCO2SYS.sys(\n",
    "    par1_type=1,  # Total Alkalinity input 1\n",
    "    par1=test['TA'],\n",
    "    par2_type=3,  # pH input 3\n",
    "    par2=test['pH'],\n",
    "    salinity=test['Salinity'],  # practical salinity (default 35)\n",
    "\n",
    "    #temperature = 25,  # temperature at which par1 and par2 arguments are provided in °C (default 25 °C)\n",
    "    temperature = test['Temperature'], \n",
    "    pressure = 0,   # water pressure at which par1 and par2 arguments are provided in dbar (default 0 dbar)\n",
    "    temperature_out = test['Temperature'], # temperature at which results will be calculated in °C \n",
    "    pressure_out = test['Depth'], # water pressure at which results will be calculated in dbar\n",
    "    \n",
    "    opt_pH_scale = 4, # NBS 4\n",
    "    opt_k_carbonic = 1, # Roy et al 1993 1\n",
    "    opt_k_bisulfate = 1, # Dickson et al 1990 1\n",
    "    opt_total_borate = 2, # Lee et al 2010 2\n",
    "    opt_k_fluoride = 1 # Dickson and Riley 1979 1\n",
    ")\n",
    "\n",
    "Ar_pred_pH = co2sys[\"saturation_aragonite_out\"]\n",
    "\n",
    "plt.plot(test['Ar'], Ar_pred_pH, '.')\n",
    "plt.plot(np.arange(0,6))\n",
    "plt.xlabel('Ar')\n",
    "plt.ylabel('co2sys Ar')\n",
    "\n",
    "np.sqrt(np.mean(np.square(test['Ar']-Ar_pred_pH)))\n"
   ]
  },
  {
   "cell_type": "code",
   "execution_count": null,
   "id": "329b7b79",
   "metadata": {},
   "outputs": [],
   "source": []
  }
 ],
 "metadata": {
  "kernelspec": {
   "display_name": "Python 3.8.17 ('GP_OA')",
   "language": "python",
   "name": "python3"
  },
  "language_info": {
   "codemirror_mode": {
    "name": "ipython",
    "version": 3
   },
   "file_extension": ".py",
   "mimetype": "text/x-python",
   "name": "python",
   "nbconvert_exporter": "python",
   "pygments_lexer": "ipython3",
   "version": "3.11.9"
  },
  "vscode": {
   "interpreter": {
    "hash": "2d558485d4cfc38c6b82c2055bc3925afb23ea9c1c2c1c2cb3f7cb4d2e2fe39f"
   }
  }
 },
 "nbformat": 4,
 "nbformat_minor": 5
}
